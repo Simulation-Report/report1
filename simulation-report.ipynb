{
  "nbformat": 4,
  "nbformat_minor": 0,
  "metadata": {
    "colab": {
      "name": "simulation.ipynb",
      "private_outputs": true,
      "provenance": [],
      "collapsed_sections": []
    },
    "kernelspec": {
      "name": "python3",
      "display_name": "Python 3"
    },
    "language_info": {
      "name": "python"
    }
  },
  "cells": [
    {
      "cell_type": "code",
      "metadata": {
        "id": "LloQB6m4QJ-_"
      },
      "source": [
        "#Importing distribution method from scipy\n",
        "from scipy.stats import *\n",
        "inter_ATime = []\n",
        "A_Time = []\n",
        "S_Time = []\n",
        "STB = []\n",
        "STE = []\n",
        "TSS= []\n",
        "timeIdleServer = []\n",
        "waitingTime = []\n",
        "mu = 5.6\n",
        "\n",
        "\n"
      ],
      "execution_count": null,
      "outputs": []
    },
    {
      "cell_type": "code",
      "metadata": {
        "id": "uXnXHJTmwXKz"
      },
      "source": [
        "\n",
        "for i in range (19):\n",
        "  n = poisson.rvs(mu)\n",
        "  inter_ATime.append(n)\n",
        "\n",
        "inter_ATime.insert(0,0)\n",
        "A_Time.insert(0,0)\n",
        "STB.insert(0,0)\n",
        "waitingTime.insert(0,0)\n",
        "timeIdleServer.insert(0,0)"
      ],
      "execution_count": null,
      "outputs": []
    },
    {
      "cell_type": "code",
      "metadata": {
        "id": "DG9jB4R0wZgx"
      },
      "source": [
        "for i in range (1,20):\n",
        "    A_Time.append(inter_ATime[i] + A_Time[i-1])\n",
        "\n",
        "for i in range (20):\n",
        "  n = expon.rvs(scale=0.5, loc=5)\n",
        "  S_Time.append(n)\n",
        "\n",
        "  STE.insert(0,(S_Time[0] + STB[0]))\n"
      ],
      "execution_count": null,
      "outputs": []
    },
    {
      "cell_type": "code",
      "metadata": {
        "id": "1iPmw3QzwfHr"
      },
      "source": [
        "for i in range (1,20):\n",
        "  if (A_Time[i] >STE[i-1]):\n",
        "    STB.insert(i,round(A_Time[i],2))\n",
        "    STE.insert(i,STB[i] +S_Time[i])\n",
        "  else:\n",
        "    STB.append(STE[i-1])\n",
        "    STE.insert(i,STB[i] + S_Time[i])\n"
      ],
      "execution_count": null,
      "outputs": []
    },
    {
      "cell_type": "code",
      "metadata": {
        "id": "P5Nr25pAwfPC"
      },
      "source": [
        "\n",
        "for i in range (1,20):\n",
        "  if (STB[i] > A_Time[i]):\n",
        "    waitingTime.insert(i, STB[i] -A_Time[i])\n",
        "  else:\n",
        "    waitingTime.insert(i,0)"
      ],
      "execution_count": null,
      "outputs": []
    },
    {
      "cell_type": "code",
      "metadata": {
        "id": "ramjMHDewith"
      },
      "source": [
        "for i in range(20):\n",
        "  TSS.insert(i, S_Time[i] + waitingTime[i])\n",
        "\n",
        "for i in range (1,20):\n",
        "  if (STE[i-1] < A_Time[i]):\n",
        "    timeIdleServer.insert(i,A_Time[i] - STE[i-1])\n",
        "  else:\n",
        "    timeIdleServer.insert(i,0)\n",
        "\n",
        "print(\"Customer no\\t Interarrival time\\t Arrival time\\t Service time \\t SBT\\t\\t SET\\t\\t Waiting time \\t Time Spend time \\t Server Idle time\")\n"
      ],
      "execution_count": null,
      "outputs": []
    },
    {
      "cell_type": "code",
      "metadata": {
        "id": "cyhnH7BBwlNE"
      },
      "source": [
        "print(\"Customer no\\t Interarrival time\\t Arrival time\\t Service time \\t SBT\\t\\t SET\\t\\t Waiting time \\t Time Spend time \\t Server Idle time\")\n",
        "\n",
        "for i in range (1,21):\n",
        "  print(\"   \",i ,\"\\t\\t\", inter_ATime[i-1], \"\\t\\t\", A_Time[i-1], \"\\t\\t\", S_Time[i-1], \"\\t\\t\", STB[i-1], \"\\t\\t\" , STE[i-1], \"\\t\\t\",   waitingTime[i-1], \"\\t\\t\",   TSS[i-1], \"\\t\\t\", timeIdleServer[i-1])"
      ],
      "execution_count": null,
      "outputs": []
    }
  ]
}