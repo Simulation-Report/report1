{
  "nbformat": 4,
  "nbformat_minor": 0,
  "metadata": {
    "colab": {
      "name": "simulation.ipynb",
      "provenance": [],
      "collapsed_sections": []
    },
    "kernelspec": {
      "name": "python3",
      "display_name": "Python 3"
    },
    "language_info": {
      "name": "python"
    },
    "accelerator": "TPU"
  },
  "cells": [
    {
      "cell_type": "code",
      "metadata": {
        "id": "LloQB6m4QJ-_"
      },
      "source": [
        "#Importing distribution method from scipy\n",
        "from scipy.stats import *\n",
        "inter_ATime = []     #  \"interArrivalTime \n",
        "A_Time = []          # \"arrivalTime\n",
        "S_Time = []          # \"serviceTime\n",
        "STB = []              # \"serviceTimeBegin\n",
        "STE = []              # \"serviceTimeEnd\n",
        "TSS= []               # \"timeSpendSystem\n",
        "timeIdleServer = []   # \"timeIdleServer\n",
        "waitingTime = []      #  \"waitingTime\n",
        "mu = 5.6"
      ],
      "execution_count": 1,
      "outputs": []
    },
    {
      "cell_type": "code",
      "metadata": {
        "id": "uXnXHJTmwXKz"
      },
      "source": [
        "\n",
        "for i in range (19):\n",
        "  n = poisson.rvs(mu)\n",
        "  inter_ATime.append(n)\n",
        "\n",
        "inter_ATime.insert(0,0)\n",
        "A_Time.insert(0,0)\n",
        "STB.insert(0,0)\n",
        "waitingTime.insert(0,0)\n",
        "timeIdleServer.insert(0,0)"
      ],
      "execution_count": 2,
      "outputs": []
    },
    {
      "cell_type": "code",
      "metadata": {
        "id": "DG9jB4R0wZgx"
      },
      "source": [
        "for i in range (1,20):\n",
        "    A_Time.append(inter_ATime[i] + A_Time[i-1])\n",
        "\n",
        "for i in range (20):\n",
        "  n = expon.rvs(scale=0.5, loc=5)\n",
        "  S_Time.append(n)\n",
        "\n",
        "  STE.insert(0,(S_Time[0] + STB[0]))\n"
      ],
      "execution_count": 3,
      "outputs": []
    },
    {
      "cell_type": "code",
      "metadata": {
        "id": "1iPmw3QzwfHr"
      },
      "source": [
        "for i in range (1,20):\n",
        "  if (A_Time[i] >STE[i-1]):\n",
        "    STB.insert(i,round(A_Time[i],2))   \n",
        "    STE.insert(i,STB[i] +S_Time[i])\n",
        "  else:\n",
        "    STB.append(STE[i-1])\n",
        "    STE.insert(i,STB[i] + S_Time[i])\n"
      ],
      "execution_count": 4,
      "outputs": []
    },
    {
      "cell_type": "code",
      "metadata": {
        "id": "P5Nr25pAwfPC"
      },
      "source": [
        "\n",
        "for i in range (1,20):\n",
        "  if (STB[i] > A_Time[i]):\n",
        "    waitingTime.insert(i, STB[i] -A_Time[i])\n",
        "  else:\n",
        "    waitingTime.insert(i,0)"
      ],
      "execution_count": 5,
      "outputs": []
    },
    {
      "cell_type": "code",
      "metadata": {
        "id": "ramjMHDewith",
        "colab": {
          "base_uri": "https://localhost:8080/"
        },
        "outputId": "e905dde5-ada3-4e0b-eca1-b38c36a2b26f"
      },
      "source": [
        "for i in range(20):\n",
        "  TSS.insert(i, S_Time[i] + waitingTime[i])\n",
        "\n",
        "for i in range (1,20):\n",
        "  if (STE[i-1] < A_Time[i]):\n",
        "    timeIdleServer.insert(i,A_Time[i] - STE[i-1])\n",
        "  else:\n",
        "    timeIdleServer.insert(i,0)\n",
        "\n",
        "print(\"Customer no\\t Interarrival time\\t Arrival time\\t Service time \\t SBT\\t\\t SET\\t\\t Waiting time \\t Time Spend time \\t Server Idle time\")\n"
      ],
      "execution_count": 6,
      "outputs": [
        {
          "output_type": "stream",
          "text": [
            "Customer no\t Interarrival time\t Arrival time\t Service time \t SBT\t\t SET\t\t Waiting time \t Time Spend time \t Server Idle time\n"
          ],
          "name": "stdout"
        }
      ]
    },
    {
      "cell_type": "code",
      "metadata": {
        "id": "cyhnH7BBwlNE",
        "colab": {
          "base_uri": "https://localhost:8080/"
        },
        "outputId": "995c90dd-5191-4b2c-ef0c-7cfcb8645a99"
      },
      "source": [
        "print(\"Customer no\\t Interarrival time\\t Arrival time\\t Service time \\t SBT\\t\\t SET\\t\\t Waiting time \\t Time Spend time \\t Server Idle time\")\n",
        "\n",
        "for i in range (1,21):\n",
        "  print(\"   \",i ,\"\\t\\t\", inter_ATime[i-1], \"\\t\\t\", A_Time[i-1], \"\\t\\t\", S_Time[i-1], \"\\t\\t\", STB[i-1], \"\\t\\t\" , STE[i-1], \"\\t\\t\",   waitingTime[i-1], \"\\t\\t\",   TSS[i-1], \"\\t\\t\", timeIdleServer[i-1])"
      ],
      "execution_count": 7,
      "outputs": [
        {
          "output_type": "stream",
          "text": [
            "Customer no\t Interarrival time\t Arrival time\t Service time \t SBT\t\t SET\t\t Waiting time \t Time Spend time \t Server Idle time\n",
            "    1 \t\t 0 \t\t 0 \t\t 5.993409799096139 \t\t 0 \t\t 5.993409799096139 \t\t 0 \t\t 5.993409799096139 \t\t 0\n",
            "    2 \t\t 5 \t\t 5 \t\t 5.0099906663193305 \t\t 5.993409799096139 \t\t 11.00340046541547 \t\t 0.9934097990961392 \t\t 6.00340046541547 \t\t 0\n",
            "    3 \t\t 5 \t\t 10 \t\t 5.497247203279691 \t\t 11.00340046541547 \t\t 16.500647668695162 \t\t 1.0034004654154707 \t\t 6.500647668695161 \t\t 0\n",
            "    4 \t\t 5 \t\t 15 \t\t 5.217268018521007 \t\t 16.500647668695162 \t\t 21.71791568721617 \t\t 1.5006476686951622 \t\t 6.717915687216169 \t\t 0\n",
            "    5 \t\t 8 \t\t 23 \t\t 5.452857607829602 \t\t 23 \t\t 28.4528576078296 \t\t 0 \t\t 5.452857607829602 \t\t 1.2820843127838302\n",
            "    6 \t\t 6 \t\t 29 \t\t 5.045047036745755 \t\t 29 \t\t 34.04504703674576 \t\t 0 \t\t 5.045047036745755 \t\t 0.5471423921704002\n",
            "    7 \t\t 8 \t\t 37 \t\t 6.217885041323568 \t\t 37 \t\t 43.21788504132357 \t\t 0 \t\t 6.217885041323568 \t\t 2.954952963254243\n",
            "    8 \t\t 6 \t\t 43 \t\t 6.027482891971864 \t\t 43.21788504132357 \t\t 49.245367933295434 \t\t 0.21788504132356934 \t\t 6.245367933295434 \t\t 0\n",
            "    9 \t\t 9 \t\t 52 \t\t 5.175981658259735 \t\t 52 \t\t 57.17598165825974 \t\t 0 \t\t 5.175981658259735 \t\t 2.7546320667045663\n",
            "    10 \t\t 7 \t\t 59 \t\t 5.367803028619724 \t\t 59 \t\t 64.36780302861972 \t\t 0 \t\t 5.367803028619724 \t\t 1.8240183417402633\n",
            "    11 \t\t 8 \t\t 67 \t\t 5.584383297204784 \t\t 67 \t\t 72.58438329720478 \t\t 0 \t\t 5.584383297204784 \t\t 2.6321969713802815\n",
            "    12 \t\t 6 \t\t 73 \t\t 6.2347184663477035 \t\t 73 \t\t 79.2347184663477 \t\t 0 \t\t 6.2347184663477035 \t\t 0.41561670279521934\n",
            "    13 \t\t 4 \t\t 77 \t\t 5.021739839871805 \t\t 79.2347184663477 \t\t 84.2564583062195 \t\t 2.234718466347701 \t\t 7.256458306219506 \t\t 0\n",
            "    14 \t\t 5 \t\t 82 \t\t 5.940894493600201 \t\t 84.2564583062195 \t\t 90.1973527998197 \t\t 2.2564583062195 \t\t 8.1973527998197 \t\t 0\n",
            "    15 \t\t 3 \t\t 85 \t\t 5.0374873286238 \t\t 90.1973527998197 \t\t 95.2348401284435 \t\t 5.197352799819697 \t\t 10.234840128443498 \t\t 0\n",
            "    16 \t\t 4 \t\t 89 \t\t 5.068868791458903 \t\t 95.2348401284435 \t\t 100.30370891990239 \t\t 6.234840128443494 \t\t 11.303708919902398 \t\t 0\n",
            "    17 \t\t 5 \t\t 94 \t\t 5.23337520514266 \t\t 100.30370891990239 \t\t 105.53708412504506 \t\t 6.303708919902391 \t\t 11.537084125045052 \t\t 0\n",
            "    18 \t\t 5 \t\t 99 \t\t 5.225460913476313 \t\t 105.53708412504506 \t\t 110.76254503852137 \t\t 6.537084125045055 \t\t 11.762545038521369 \t\t 0\n",
            "    19 \t\t 8 \t\t 107 \t\t 6.3553490617673685 \t\t 110.76254503852137 \t\t 117.11789410028874 \t\t 3.762545038521367 \t\t 10.117894100288735 \t\t 0\n",
            "    20 \t\t 5 \t\t 112 \t\t 5.032916884573864 \t\t 117.11789410028874 \t\t 122.1508109848626 \t\t 5.117894100288737 \t\t 10.150810984862602 \t\t 0\n"
          ],
          "name": "stdout"
        }
      ]
    }
  ]
}