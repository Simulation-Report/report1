{
  "nbformat": 4,
  "nbformat_minor": 0,
  "metadata": {
    "colab": {
      "name": "simulation.ipynb",
      "provenance": [],
      "collapsed_sections": []
    },
    "kernelspec": {
      "name": "python3",
      "display_name": "Python 3"
    },
    "language_info": {
      "name": "python"
    },
    "accelerator": "TPU"
  },
  "cells": [
    {
      "cell_type": "code",
      "metadata": {
        "id": "LloQB6m4QJ-_"
      },
      "source": [
        "#Importing distribution method from scipy\n",
        "from scipy.stats import *\n",
        "inter_ATime = []     #  \"interArrivalTime \n",
        "A_Time = []          # \"arrivalTime\n",
        "S_Time = []          # \"serviceTime\n",
        "STB = []              # \"serviceTimeBegin\n",
        "STE = []              # \"serviceTimeEnd\n",
        "TSS= []               # \"timeSpendSystem\n",
        "timeIdleServer = []   # \"timeIdleServer\n",
        "waitingTime = []      #  \"waitingTime\n",
        "mu = 5.6"
      ],
      "execution_count": 1,
      "outputs": []
    },
    {
      "cell_type": "code",
      "metadata": {
        "id": "uXnXHJTmwXKz"
      },
      "source": [
        "\n",
        "for i in range (19):\n",
        "  n = poisson.rvs(mu)\n",
        "  inter_ATime.append(n)\n",
        "\n",
        "inter_ATime.insert(0,0)\n",
        "A_Time.insert(0,0)\n",
        "STB.insert(0,0)\n",
        "waitingTime.insert(0,0)\n",
        "timeIdleServer.insert(0,0)"
      ],
      "execution_count": 2,
      "outputs": []
    },
    {
      "cell_type": "code",
      "metadata": {
        "id": "DG9jB4R0wZgx"
      },
      "source": [
        "for i in range (1,20):\n",
        "    A_Time.append(inter_ATime[i] + A_Time[i-1])\n",
        "\n",
        "for i in range (20):\n",
        "  n = expon.rvs(scale=0.5, loc=5)\n",
        "  S_Time.append(n)\n",
        "\n",
        "  STE.insert(0,(S_Time[0] + STB[0]))\n"
      ],
      "execution_count": 3,
      "outputs": []
    },
    {
      "cell_type": "code",
      "metadata": {
        "id": "1iPmw3QzwfHr"
      },
      "source": [
        "for i in range (1,20):\n",
        "  if (A_Time[i] >STE[i-1]):\n",
        "    STB.insert(i,round(A_Time[i],2))   
        "    STE.insert(i,STB[i] +S_Time[i])\n",
        "  else:\n",
        "    STB.append(STE[i-1])\n",
        "    STE.insert(i,STB[i] + S_Time[i])\n"
      ],
      "execution_count": 4,
      "outputs": []
    },
    {
      "cell_type": "code",
      "metadata": {
        "id": "P5Nr25pAwfPC"
      },
      "source": [
        "\n",
        "for i in range (1,20):\n",
        "  if (STB[i] > A_Time[i]):\n",
        "    waitingTime.insert(i, STB[i] -A_Time[i])\n",
        "  else:\n",
        "    waitingTime.insert(i,0)"
      ],
      "execution_count": 5,
      "outputs": []
    },
    {
      "cell_type": "code",
      "metadata": {
        "id": "ramjMHDewith",
        "colab": {
          "base_uri": "https://localhost:8080/"
        },
        "outputId": "cc1412a5-109c-47e3-b1c4-0447cbe4d5c0"
      },
      "source": [
        "for i in range(20):\n",
        "  TSS.insert(i, S_Time[i] + waitingTime[i])\n",
        "\n",
        "for i in range (1,20):\n",
        "  if (STE[i-1] < A_Time[i]):\n",
        "    timeIdleServer.insert(i,A_Time[i] - STE[i-1])\n",
        "  else:\n",
        "    timeIdleServer.insert(i,0)\n",
        "\n",
        "print(\"Customer no\\t Interarrival time\\t Arrival time\\t Service time \\t SBT\\t\\t SET\\t\\t Waiting time \\t Time Spend time \\t Server Idle time\")\n"
      ],
      "execution_count": 6,
      "outputs": [
        {
          "output_type": "stream",
          "text": [
            "Customer no\t Interarrival time\t Arrival time\t Service time \t SBT\t\t SET\t\t Waiting time \t Time Spend time \t Server Idle time\n"
          ],
          "name": "stdout"
        }
      ]
    },
    {
      "cell_type": "code",
      "metadata": {
        "id": "cyhnH7BBwlNE",
        "colab": {
          "base_uri": "https://localhost:8080/"
        },
        "outputId": "3d858c56-af85-4d82-9f8d-faf0873e4311"
      },
      "source": [
        "print(\"Customer no\\t Interarrival time\\t Arrival time\\t Service time \\t SBT\\t\\t SET\\t\\t Waiting time \\t Time Spend time \\t Server Idle time\")\n",
        "\n",
        "for i in range (1,21):\n",
        "  print(\"   \",i ,\"\\t\\t\", inter_ATime[i-1], \"\\t\\t\", A_Time[i-1], \"\\t\\t\", S_Time[i-1], \"\\t\\t\", STB[i-1], \"\\t\\t\" , STE[i-1], \"\\t\\t\",   waitingTime[i-1], \"\\t\\t\",   TSS[i-1], \"\\t\\t\", timeIdleServer[i-1])"
      ],
      "execution_count": 7,
      "outputs": [
        {
          "output_type": "stream",
          "text": [
            "Customer no\t Interarrival time\t Arrival time\t Service time \t SBT\t\t SET\t\t Waiting time \t Time Spend time \t Server Idle time\n",
            "    1 \t\t 0 \t\t 0 \t\t 6.23585146789363 \t\t 0 \t\t 6.23585146789363 \t\t 0 \t\t 6.23585146789363 \t\t 0\n",
            "    2 \t\t 5 \t\t 5 \t\t 5.760195790954354 \t\t 6.23585146789363 \t\t 11.996047258847984 \t\t 1.2358514678936299 \t\t 6.996047258847984 \t\t 0\n",
            "    3 \t\t 6 \t\t 11 \t\t 5.269717308074486 \t\t 11.996047258847984 \t\t 17.26576456692247 \t\t 0.9960472588479838 \t\t 6.26576456692247 \t\t 0\n",
            "    4 \t\t 5 \t\t 16 \t\t 5.352855915349175 \t\t 17.26576456692247 \t\t 22.618620482271645 \t\t 1.2657645669224706 \t\t 6.618620482271646 \t\t 0\n",
            "    5 \t\t 8 \t\t 24 \t\t 5.551631544676301 \t\t 24 \t\t 29.5516315446763 \t\t 0 \t\t 5.551631544676301 \t\t 1.3813795177283552\n",
            "    6 \t\t 10 \t\t 34 \t\t 5.0168668900794025 \t\t 34 \t\t 39.0168668900794 \t\t 0 \t\t 5.0168668900794025 \t\t 4.448368455323699\n",
            "    7 \t\t 5 \t\t 39 \t\t 5.243263145490031 \t\t 39.0168668900794 \t\t 44.26013003556943 \t\t 0.0168668900793989 \t\t 5.26013003556943 \t\t 0\n",
            "    8 \t\t 2 \t\t 41 \t\t 5.071133613827999 \t\t 44.26013003556943 \t\t 49.33126364939743 \t\t 3.260130035569432 \t\t 8.331263649397432 \t\t 0\n",
            "    9 \t\t 8 \t\t 49 \t\t 5.2873827303289245 \t\t 49.33126364939743 \t\t 54.61864637972635 \t\t 0.33126364939742814 \t\t 5.618646379726353 \t\t 0\n",
            "    10 \t\t 8 \t\t 57 \t\t 5.040793131582006 \t\t 57 \t\t 62.04079313158201 \t\t 0 \t\t 5.040793131582006 \t\t 2.38135362027365\n",
            "    11 \t\t 6 \t\t 63 \t\t 5.690477933972185 \t\t 63 \t\t 68.69047793397219 \t\t 0 \t\t 5.690477933972185 \t\t 0.9592068684179935\n",
            "    12 \t\t 4 \t\t 67 \t\t 5.940086708396282 \t\t 68.69047793397219 \t\t 74.63056464236847 \t\t 1.6904779339721898 \t\t 7.630564642368472 \t\t 0\n",
            "    13 \t\t 5 \t\t 72 \t\t 5.094641840979073 \t\t 74.63056464236847 \t\t 79.72520648334755 \t\t 2.630564642368469 \t\t 7.7252064833475425 \t\t 0\n",
            "    14 \t\t 7 \t\t 79 \t\t 6.167615505227214 \t\t 79.72520648334755 \t\t 85.89282198857477 \t\t 0.7252064833475487 \t\t 6.892821988574763 \t\t 0\n",
            "    15 \t\t 4 \t\t 83 \t\t 5.30351869046882 \t\t 85.89282198857477 \t\t 91.19634067904359 \t\t 2.8928219885747666 \t\t 8.196340679043587 \t\t 0\n",
            "    16 \t\t 2 \t\t 85 \t\t 5.764527092558093 \t\t 91.19634067904359 \t\t 96.96086777160168 \t\t 6.196340679043587 \t\t 11.96086777160168 \t\t 0\n",
            "    17 \t\t 4 \t\t 89 \t\t 5.684176399686923 \t\t 96.96086777160168 \t\t 102.6450441712886 \t\t 7.960867771601684 \t\t 13.645044171288607 \t\t 0\n",
            "    18 \t\t 8 \t\t 97 \t\t 5.758807609907986 \t\t 102.6450441712886 \t\t 108.4038517811966 \t\t 5.645044171288603 \t\t 11.40385178119659 \t\t 0\n",
            "    19 \t\t 11 \t\t 108 \t\t 6.12611509353256 \t\t 108.4038517811966 \t\t 114.52996687472915 \t\t 0.40385178119659315 \t\t 6.529966874729153 \t\t 0\n",
            "    20 \t\t 6 \t\t 114 \t\t 5.84890851955885 \t\t 114.52996687472915 \t\t 120.378875394288 \t\t 0.5299668747291548 \t\t 6.378875394288005 \t\t 0\n"
          ],
          "name": "stdout"
        }
      ]
    }
  ]
}
