{
  "nbformat": 4,
  "nbformat_minor": 0,
  "metadata": {
    "colab": {
      "name": "simulation.ipynb",
      "provenance": []
    },
    "kernelspec": {
      "name": "python3",
      "display_name": "Python 3"
    },
    "language_info": {
      "name": "python"
    }
  },
  "cells": [
    {
      "cell_type": "code",
      "metadata": {
        "id": "gJadE_a9kgJu"
      },
      "source": [
        "#Importing distribution method from scipy\n",
        "from scipy.stats import *\n",
        "inter_ATime = []\n",
        "A_Time = []\n",
        "S_Time = []\n",
        "STB = []\n",
        "STE = []\n",
        "TSS= []\n",
        "timeIdleServer = []\n",
        "waitingTime = []\n",
        "mu = 5.6"
      ],
      "execution_count": 1,
      "outputs": []
    },
    {
      "cell_type": "code",
      "metadata": {
        "id": "LA1PYoH0kj5B"
      },
      "source": [
        "for i in range (19):\n",
        "  n = poisson.rvs(mu)\n",
        "  inter_ATime.append(n)\n",
        "\n",
        "inter_ATime.insert(0,0)\n",
        "A_Time.insert(0,0)\n",
        "STB.insert(0,0)\n",
        "waitingTime.insert(0,0)\n",
        "timeIdleServer.insert(0,0)"
      ],
      "execution_count": 2,
      "outputs": []
    },
    {
      "cell_type": "code",
      "metadata": {
        "id": "3UNZsOgJkm8Q"
      },
      "source": [
        "for i in range (1,20):\n",
        "    A_Time.append(inter_ATime[i] + A_Time[i-1])\n",
        "\n",
        "for i in range (20):\n",
        "  n = expon.rvs(scale=0.5, loc=5)\n",
        "  S_Time.append(n)\n",
        "\n",
        "  STE.insert(0,(S_Time[0] + STB[0]))"
      ],
      "execution_count": 3,
      "outputs": []
    },
    {
      "cell_type": "code",
      "metadata": {
        "id": "wYweC11qkofw"
      },
      "source": [
        "for i in range (1,20):\n",
        "  if (A_Time[i] >STE[i-1]):\n",
        "    STB.insert(i,round(A_Time[i],2))\n",
        "    STE.insert(i,STB[i] +S_Time[i])\n",
        "  else:\n",
        "    STB.append(STE[i-1])\n",
        "    STE.insert(i,STB[i] + S_Time[i])\n"
      ],
      "execution_count": 4,
      "outputs": []
    },
    {
      "cell_type": "code",
      "metadata": {
        "id": "-vHeIU9wkp5p"
      },
      "source": [
        "\n",
        "for i in range (1,20):\n",
        "  if (STB[i] > A_Time[i]):\n",
        "    waitingTime.insert(i, STB[i] -A_Time[i])\n",
        "  else:\n",
        "    waitingTime.insert(i,0)"
      ],
      "execution_count": 5,
      "outputs": []
    },
    {
      "cell_type": "code",
      "metadata": {
        "id": "SkGiRUVakrAR",
        "outputId": "fcfa5e7b-55ef-446b-fe7c-737e1e32c2e6",
        "colab": {
          "base_uri": "https://localhost:8080/"
        }
      },
      "source": [
        "for i in range(20):\n",
        "  TSS.insert(i, S_Time[i] + waitingTime[i])\n",
        "\n",
        "for i in range (1,20):\n",
        "  if (STE[i-1] < A_Time[i]):\n",
        "    timeIdleServer.insert(i,A_Time[i] - STE[i-1])\n",
        "  else:\n",
        "    timeIdleServer.insert(i,0)\n",
        "\n",
        "print(\"Customer no\\t Interarrival time\\t Arrival time\\t Service time \\t SBT\\t\\t SET\\t\\t Waiting time \\t Time Spend time \\t Server Idle time\")\n"
      ],
      "execution_count": 6,
      "outputs": [
        {
          "output_type": "stream",
          "text": [
            "Customer no\t Interarrival time\t Arrival time\t Service time \t SBT\t\t SET\t\t Waiting time \t Time Spend time \t Server Idle time\n"
          ],
          "name": "stdout"
        }
      ]
    },
    {
      "cell_type": "code",
      "metadata": {
        "id": "NtfvuQeBksHQ",
        "outputId": "57fd2991-7bf1-4b0e-86c7-3f061198d192",
        "colab": {
          "base_uri": "https://localhost:8080/"
        }
      },
      "source": [
        "print(\"Customer no\\t Interarrival time\\t Arrival time\\t Service time \\t SBT\\t\\t SET\\t\\t Waiting time \\t Time Spend time \\t Server Idle time\")\n",
        "\n",
        "for i in range (1,21):\n",
        "  print(\"   \",i ,\"\\t\\t\", inter_ATime[i-1], \"\\t\\t\", A_Time[i-1], \"\\t\\t\", S_Time[i-1], \"\\t\\t\", STB[i-1], \"\\t\\t\" , STE[i-1], \"\\t\\t\",   waitingTime[i-1], \"\\t\\t\",   TSS[i-1], \"\\t\\t\", timeIdleServer[i-1])"
      ],
      "execution_count": 7,
      "outputs": [
        {
          "output_type": "stream",
          "text": [
            "Customer no\t Interarrival time\t Arrival time\t Service time \t SBT\t\t SET\t\t Waiting time \t Time Spend time \t Server Idle time\n",
            "    1 \t\t 0 \t\t 0 \t\t 6.036312840634611 \t\t 0 \t\t 6.036312840634611 \t\t 0 \t\t 6.036312840634611 \t\t 0\n",
            "    2 \t\t 3 \t\t 3 \t\t 5.6075602229212045 \t\t 6.036312840634611 \t\t 11.643873063555816 \t\t 3.0363128406346114 \t\t 8.643873063555816 \t\t 0\n",
            "    3 \t\t 5 \t\t 8 \t\t 5.0946502914797005 \t\t 11.643873063555816 \t\t 16.738523355035518 \t\t 3.643873063555816 \t\t 8.738523355035516 \t\t 0\n",
            "    4 \t\t 5 \t\t 13 \t\t 5.224903347092305 \t\t 16.738523355035518 \t\t 21.963426702127823 \t\t 3.738523355035518 \t\t 8.963426702127823 \t\t 0\n",
            "    5 \t\t 9 \t\t 22 \t\t 5.933672800425201 \t\t 22 \t\t 27.9336728004252 \t\t 0 \t\t 5.933672800425201 \t\t 0.036573297872177335\n",
            "    6 \t\t 5 \t\t 27 \t\t 5.691462937605302 \t\t 27.9336728004252 \t\t 33.6251357380305 \t\t 0.9336728004251995 \t\t 6.625135738030502 \t\t 0\n",
            "    7 \t\t 6 \t\t 33 \t\t 5.558978263703556 \t\t 33.6251357380305 \t\t 39.18411400173406 \t\t 0.6251357380305009 \t\t 6.184114001734057 \t\t 0\n",
            "    8 \t\t 9 \t\t 42 \t\t 5.144854612792732 \t\t 42 \t\t 47.144854612792734 \t\t 0 \t\t 5.144854612792732 \t\t 2.8158859982659408\n",
            "    9 \t\t 8 \t\t 50 \t\t 5.03843307023128 \t\t 50 \t\t 55.03843307023128 \t\t 0 \t\t 5.03843307023128 \t\t 2.8551453872072656\n",
            "    10 \t\t 3 \t\t 53 \t\t 5.101233372751051 \t\t 55.03843307023128 \t\t 60.13966644298233 \t\t 2.038433070231278 \t\t 7.139666442982329 \t\t 0\n",
            "    11 \t\t 4 \t\t 57 \t\t 5.773185337380908 \t\t 60.13966644298233 \t\t 65.91285178036324 \t\t 3.1396664429823318 \t\t 8.91285178036324 \t\t 0\n",
            "    12 \t\t 5 \t\t 62 \t\t 5.3390918084969154 \t\t 65.91285178036324 \t\t 71.25194358886016 \t\t 3.9128517803632406 \t\t 9.251943588860156 \t\t 0\n",
            "    13 \t\t 5 \t\t 67 \t\t 5.04128845832919 \t\t 71.25194358886016 \t\t 76.29323204718935 \t\t 4.251943588860158 \t\t 9.293232047189349 \t\t 0\n",
            "    14 \t\t 7 \t\t 74 \t\t 5.902194023202921 \t\t 76.29323204718935 \t\t 82.19542607039227 \t\t 2.293232047189349 \t\t 8.19542607039227 \t\t 0\n",
            "    15 \t\t 7 \t\t 81 \t\t 5.28880220045496 \t\t 82.19542607039227 \t\t 87.48422827084724 \t\t 1.1954260703922728 \t\t 6.4842282708472325 \t\t 0\n",
            "    16 \t\t 8 \t\t 89 \t\t 5.3098666725332455 \t\t 89 \t\t 94.30986667253325 \t\t 0 \t\t 5.3098666725332455 \t\t 1.5157717291527604\n",
            "    17 \t\t 4 \t\t 93 \t\t 6.1357132997030845 \t\t 94.30986667253325 \t\t 100.44557997223633 \t\t 1.3098666725332464 \t\t 7.445579972236331 \t\t 0\n",
            "    18 \t\t 5 \t\t 98 \t\t 5.277636691307704 \t\t 100.44557997223633 \t\t 105.72321666354404 \t\t 2.445579972236331 \t\t 7.723216663544035 \t\t 0\n",
            "    19 \t\t 7 \t\t 105 \t\t 5.032517956162114 \t\t 105.72321666354404 \t\t 110.75573461970615 \t\t 0.7232166635440365 \t\t 5.755734619706151 \t\t 0\n",
            "    20 \t\t 5 \t\t 110 \t\t 5.391827616424538 \t\t 110.75573461970615 \t\t 116.14756223613068 \t\t 0.7557346197061463 \t\t 6.1475622361306845 \t\t 0\n"
          ],
          "name": "stdout"
        }
      ]
    }
  ]
}
